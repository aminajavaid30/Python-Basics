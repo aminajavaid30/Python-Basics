{
 "cells": [
  {
   "cell_type": "markdown",
   "id": "28eec61f-5d18-48e5-b656-d58e6acd4c0e",
   "metadata": {},
   "source": [
    "## Task 1\n",
    "### Variables and Data Types"
   ]
  },
  {
   "cell_type": "code",
   "execution_count": 24,
   "id": "c6411789-14d3-404e-a75d-07a533a44407",
   "metadata": {},
   "outputs": [
    {
     "name": "stdout",
     "output_type": "stream",
     "text": [
      "Age: 40\n",
      "Name: Amina Javaid\n",
      "Is student: True\n"
     ]
    }
   ],
   "source": [
    "# a\n",
    "# Define variables\n",
    "age = 40               # integer variable\n",
    "name = \"Amina Javaid\"  # string variable \n",
    "is_student = True      # Boolean variable \n",
    "\n",
    "# Print variables\n",
    "print(\"Age:\", age)\n",
    "print(\"Name:\", name)\n",
    "print(\"Is student:\", is_student)"
   ]
  },
  {
   "cell_type": "code",
   "execution_count": 25,
   "id": "50a9fc61-bf46-4a3a-a261-f7d9966c375a",
   "metadata": {},
   "outputs": [
    {
     "name": "stdout",
     "output_type": "stream",
     "text": [
      "Age: 65\n",
      "Name: Amina Javaid Smith.\n",
      "Is student: False\n"
     ]
    }
   ],
   "source": [
    "# b\n",
    "age = age + 25               # Add 25 t0 age\n",
    "name = name + \" Smith.\"      # Concatenate name with 'Smith.' \n",
    "is_student = not is_student  # Negate is_student \n",
    "\n",
    "# Print the results\n",
    "print(\"Age:\", age)\n",
    "print(\"Name:\", name)\n",
    "print(\"Is student:\", is_student)"
   ]
  },
  {
   "cell_type": "markdown",
   "id": "a350fbd4-7142-4d4c-9c07-f87f07b446fe",
   "metadata": {},
   "source": [
    "## Task 2\n",
    "### Expressions and Operators"
   ]
  },
  {
   "cell_type": "code",
   "execution_count": 26,
   "id": "673fc1bd-b291-4d2d-8511-c6ac45d98095",
   "metadata": {},
   "outputs": [
    {
     "name": "stdout",
     "output_type": "stream",
     "text": [
      "Area: 17.875\n"
     ]
    }
   ],
   "source": [
    "# a\n",
    "width = 5.5\n",
    "height = 3.25\n",
    "area = width * height\n",
    "print(\"Area:\", area)"
   ]
  },
  {
   "cell_type": "code",
   "execution_count": 27,
   "id": "8a85839a-bcb8-4553-9b6c-87ee50ffefb7",
   "metadata": {},
   "outputs": [
    {
     "name": "stdout",
     "output_type": "stream",
     "text": [
      "Temperature in Fahrenheit: 212.0\n"
     ]
    }
   ],
   "source": [
    "# b\n",
    "Celcius = 100                        # Temperature in Celcius   \n",
    "Fahrenheit = (Celcius * 9 / 5) + 32  # Conversion to Fahrenheit\n",
    "print(\"Temperature in Fahrenheit:\", Fahrenheit)"
   ]
  },
  {
   "cell_type": "code",
   "execution_count": 29,
   "id": "e80f2bc5-365a-4f09-96a2-0f66fd229018",
   "metadata": {},
   "outputs": [
    {
     "name": "stdout",
     "output_type": "stream",
     "text": [
      "Area of circle: 78.53975\n"
     ]
    }
   ],
   "source": [
    "# c\n",
    "radius = 5\n",
    "pi = 3.14159\n",
    "area = pi * (radius**2)\n",
    "print(\"Area of circle:\", area)"
   ]
  },
  {
   "cell_type": "markdown",
   "id": "53a71edc-d144-4982-943b-081a56b0caa4",
   "metadata": {},
   "source": [
    "## Task 3\n",
    "### Introduction to Data Structures"
   ]
  },
  {
   "cell_type": "code",
   "execution_count": 30,
   "id": "f326d474-d5c2-4c63-b4c8-7444c4eca908",
   "metadata": {},
   "outputs": [
    {
     "name": "stdout",
     "output_type": "stream",
     "text": [
      "['apple', 'banana', 'orange', 'grape', 'kiwi']\n"
     ]
    }
   ],
   "source": [
    "# a\n",
    "fruits = [\"apple\", \"banana\", \"orange\", \"grape\", \"kiwi\"]\n",
    "print(fruits)"
   ]
  },
  {
   "cell_type": "code",
   "execution_count": 32,
   "id": "4cdbd7c5-02c7-4b4a-bc6a-b6ab7e413359",
   "metadata": {},
   "outputs": [
    {
     "name": "stdout",
     "output_type": "stream",
     "text": [
      "('January', 'February', 'March')\n"
     ]
    }
   ],
   "source": [
    "# b\n",
    "months = (\"January\", \"February\", \"March\")\n",
    "print(months)"
   ]
  },
  {
   "cell_type": "markdown",
   "id": "3cc658ea-9d81-4500-ab25-496bffdd8de3",
   "metadata": {},
   "source": [
    "## Task 4\n",
    "### List Manipulation"
   ]
  },
  {
   "cell_type": "code",
   "execution_count": 33,
   "id": "c02a4eca-bc5d-4897-a147-11ceeece51f0",
   "metadata": {},
   "outputs": [
    {
     "name": "stdout",
     "output_type": "stream",
     "text": [
      "Sum: 426\n",
      "Average: 53.25\n"
     ]
    }
   ],
   "source": [
    "# a\n",
    "numbers = [12, 34, 45, 67, 89, 100, 23, 56]\n",
    "\n",
    "# Calculate the sum of numbers\n",
    "sum = 0\n",
    "for num in numbers:\n",
    "    sum = sum + num\n",
    "\n",
    "# Calculate the average of numbers\n",
    "average = sum / len(numbers)\n",
    "\n",
    "# Print the results\n",
    "print(\"Sum:\", sum)\n",
    "print(\"Average:\", average)"
   ]
  },
  {
   "cell_type": "code",
   "execution_count": 35,
   "id": "0a1ae599-4c92-4735-9f33-2b685b201584",
   "metadata": {},
   "outputs": [
    {
     "name": "stdout",
     "output_type": "stream",
     "text": [
      "['banana', 'orange', 'grape']\n"
     ]
    }
   ],
   "source": [
    "# b\n",
    "\n",
    "# Remove the first element\n",
    "fruits.pop(0)\n",
    "\n",
    "# Remove the last element\n",
    "fruits.pop(3)\n",
    "\n",
    "# Print the results\n",
    "print(fruits)"
   ]
  },
  {
   "cell_type": "markdown",
   "id": "0596fdc6-be07-46fd-9650-692c3dcc3f17",
   "metadata": {},
   "source": [
    "## Task 5\n",
    "### Dictionary Operations"
   ]
  },
  {
   "cell_type": "code",
   "execution_count": 36,
   "id": "d0deeca6-5e9c-49c8-aba3-3bc6487efa9d",
   "metadata": {},
   "outputs": [
    {
     "name": "stdout",
     "output_type": "stream",
     "text": [
      "{'USA': 'Washington D.C.', 'France': 'Paris', 'Japan': 'Tokyo'}\n"
     ]
    }
   ],
   "source": [
    "# a\n",
    "# Create a dictionary\n",
    "capitals = {\"USA\": \"Washington D.C.\", \"France\": \"Paris\", \"Japan\": \"Tokyo\"}\n",
    "\n",
    "# Print the dictionary\n",
    "print(capitals)"
   ]
  },
  {
   "cell_type": "code",
   "execution_count": 38,
   "id": "e20923d4-b94b-4bf3-a13f-ac47894e5fc0",
   "metadata": {},
   "outputs": [
    {
     "name": "stdout",
     "output_type": "stream",
     "text": [
      "{'USA': 'Washington D.C.', 'France': 'Paris', 'Japan': 'Tokyo', 'Germany': 'Berlin'}\n"
     ]
    }
   ],
   "source": [
    "# b\n",
    "# Add a new country to the dictionary\n",
    "capitals.update({\"Germany\": \"Berlin\"})\n",
    "\n",
    "# Print the updated dictionary \n",
    "print(capitals)"
   ]
  },
  {
   "cell_type": "code",
   "execution_count": 41,
   "id": "d4231f5d-27ef-4cd8-bcb4-8fc952f50b25",
   "metadata": {},
   "outputs": [
    {
     "name": "stdout",
     "output_type": "stream",
     "text": [
      "France is in the dictionary\n"
     ]
    }
   ],
   "source": [
    "# c\n",
    "# Check if France exists in the 'capitals' dictionary\n",
    "if(\"France\" in capitals):\n",
    "    print(\"France is in the dictionary\")"
   ]
  },
  {
   "cell_type": "markdown",
   "id": "c408cb80-e08c-459e-887d-b0dbaf664de9",
   "metadata": {},
   "source": [
    "## Task 6\n",
    "### Comparison Operators, Logical Operators and If/Else"
   ]
  },
  {
   "cell_type": "code",
   "execution_count": 45,
   "id": "96ec6f15-ee83-498a-8243-a6c237a36a5f",
   "metadata": {},
   "outputs": [
    {
     "name": "stdin",
     "output_type": "stream",
     "text": [
      "Enter a number: 70\n"
     ]
    },
    {
     "name": "stdout",
     "output_type": "stream",
     "text": [
      "The number is even\n"
     ]
    }
   ],
   "source": [
    "# a\n",
    "# Take input from the user\n",
    "number = int(input(\"Enter a number:\"))\n",
    "\n",
    "# Check if the number is even or odd\n",
    "if(number % 2 == 0):\n",
    "    print(\"The number is even\")\n",
    "else:\n",
    "    print(\"The number is odd\")"
   ]
  },
  {
   "cell_type": "code",
   "execution_count": 56,
   "id": "b38fbf4e-1e25-4920-b907-93e6c8bdf75d",
   "metadata": {},
   "outputs": [
    {
     "name": "stdout",
     "output_type": "stream",
     "text": [
      "Eligible for admission\n"
     ]
    }
   ],
   "source": [
    "# b\n",
    "age = 20\n",
    "GPA = 3.36\n",
    "\n",
    "if(age >= 18 and GPA >= 3.0):\n",
    "    print(\"Eligible for admission\")\n",
    "else:\n",
    "    print(\"Not eligible for admission\")"
   ]
  },
  {
   "cell_type": "markdown",
   "id": "255885f0-4318-43ff-b094-6bbc37da3762",
   "metadata": {},
   "source": [
    "## Task 7\n",
    "### Advanced Data Types"
   ]
  },
  {
   "cell_type": "code",
   "execution_count": 57,
   "id": "b7f94a8e-e4fb-45fb-9140-4fead379ea7e",
   "metadata": {},
   "outputs": [
    {
     "name": "stdout",
     "output_type": "stream",
     "text": [
      "{'kiwi', 'orange', 'apple', 'grape', 'banana'}\n"
     ]
    }
   ],
   "source": [
    "# a\"\n",
    "# Create a set\n",
    "fruits_set = {\"apple\", \"banana\", \"orange\", \"grape\", \"kiwi\"}\n",
    "\n",
    "# Print the set\n",
    "print(fruits_set)"
   ]
  },
  {
   "cell_type": "code",
   "execution_count": 63,
   "id": "c2ca8d16-92bb-4cab-9f6f-d60c76cc25fc",
   "metadata": {},
   "outputs": [
    {
     "name": "stdout",
     "output_type": "stream",
     "text": [
      "set1 ∪ set2 = {1, 2, 3, 4, 5, 6, 7}\n",
      "set1 ∩ set2 = {3, 4, 5}\n",
      "set1 - set2 = {1, 2}\n",
      "set2 - set1 = {6, 7}\n",
      "set1 is not a subset of set2\n"
     ]
    }
   ],
   "source": [
    "# b\n",
    "set1 = {1, 2, 3, 4, 5}\n",
    "set2 = {3, 4, 5, 6, 7}\n",
    "\n",
    "# Union of sets\n",
    "union = set1.union(set2)\n",
    "print(\"set1 ∪ set2 =\", union)\n",
    "\n",
    "# Intersection of sets\n",
    "intersection = set1.intersection(set2)\n",
    "print(\"set1 ∩ set2 =\", intersection)\n",
    "\n",
    "# Difference of sets\n",
    "diff1 = set1 - set2\n",
    "diff2 = set2 - set1\n",
    "print(\"set1 - set2 =\", diff1)\n",
    "print(\"set2 - set1 =\", diff2)\n",
    "\n",
    "# Check if set1 is a subset of set2\n",
    "is_subset = set1.issubset(set2)\n",
    "if(is_subset == True):\n",
    "    print(\"set1 is a subset of set2\")\n",
    "else:\n",
    "    print(\"set1 is not a subset of set2\")"
   ]
  },
  {
   "cell_type": "markdown",
   "id": "f33fd7f1-45be-4dbd-ae28-dbbdf6edfd58",
   "metadata": {},
   "source": [
    "## Task 8\n",
    "### Strings Manipulation"
   ]
  },
  {
   "cell_type": "code",
   "execution_count": 65,
   "id": "54511989-8746-45e2-8047-653b9a30682f",
   "metadata": {},
   "outputs": [
    {
     "name": "stdout",
     "output_type": "stream",
     "text": [
      "Length of the string: 39\n",
      "Uppercase string: PYTHON PROGRAMMING IS FUN AND POWERFUL!\n",
      "Replace 'fun' with 'exciting': Python programming is exciting and powerful!\n",
      "The string does not contain 'Python.'\n",
      "String splitted into words: ['Python', 'programming', 'is', 'fun', 'and', 'powerful!']\n"
     ]
    }
   ],
   "source": [
    "# a\n",
    "str = \"Python programming is fun and powerful!\"\n",
    "\n",
    "# length of the string\n",
    "length = len(str)\n",
    "\n",
    "# Convert to Uppercase\n",
    "str_upper = str.upper()\n",
    "\n",
    "# Replace 'fun' with 'exciting'\n",
    "str_replaced = str.replace('fun', 'exciting')\n",
    "\n",
    "# Check if the string contains the word 'Python.'\n",
    "contains = 'Python.' in str\n",
    "\n",
    "# Split the string0\n",
    "words = str.split()\n",
    "\n",
    "# Print the results\n",
    "print(\"Length of the string:\", length)\n",
    "print(\"Uppercase string:\", str_upper)\n",
    "print(\"Replace 'fun' with 'exciting':\", str_replaced)\n",
    "if(contains == True):\n",
    "    print(\"The string contains 'Python.'\")\n",
    "else:\n",
    "    print(\"The string does not contain 'Python.'\")\n",
    "print(\"String splitted into words:\", words)"
   ]
  }
 ],
 "metadata": {
  "kernelspec": {
   "display_name": "Python 3 (ipykernel)",
   "language": "python",
   "name": "python3"
  },
  "language_info": {
   "codemirror_mode": {
    "name": "ipython",
    "version": 3
   },
   "file_extension": ".py",
   "mimetype": "text/x-python",
   "name": "python",
   "nbconvert_exporter": "python",
   "pygments_lexer": "ipython3",
   "version": "3.10.9"
  }
 },
 "nbformat": 4,
 "nbformat_minor": 5
}
