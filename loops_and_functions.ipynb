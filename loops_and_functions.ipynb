{
 "cells": [
  {
   "cell_type": "markdown",
   "id": "c6fdc981-2f7d-48a0-a823-543fa9622d02",
   "metadata": {},
   "source": [
    "# Task 1:"
   ]
  },
  {
   "cell_type": "markdown",
   "id": "774a38c1-b469-4bc4-b852-6187e851d379",
   "metadata": {},
   "source": [
    "## Guessing Game"
   ]
  },
  {
   "cell_type": "code",
   "execution_count": 25,
   "id": "55c52ecb-e357-450c-a60e-77ba8f9073bb",
   "metadata": {},
   "outputs": [
    {
     "name": "stdout",
     "output_type": "stream",
     "text": [
      "--- Welcome to the Guessing Game! ---\n"
     ]
    },
    {
     "name": "stdin",
     "output_type": "stream",
     "text": [
      "\n",
      "Guess the secret number (between 1 and 50): 40\n"
     ]
    },
    {
     "name": "stdout",
     "output_type": "stream",
     "text": [
      "Try again! Your guess is too high. You have 4 attempts left.\n"
     ]
    },
    {
     "name": "stdin",
     "output_type": "stream",
     "text": [
      "\n",
      "Guess the secret number (between 1 and 50): abc\n"
     ]
    },
    {
     "name": "stdout",
     "output_type": "stream",
     "text": [
      "Invalid input! Please enter a valid number\n"
     ]
    },
    {
     "name": "stdin",
     "output_type": "stream",
     "text": [
      "\n",
      "Guess the secret number (between 1 and 50): 30\n"
     ]
    },
    {
     "name": "stdout",
     "output_type": "stream",
     "text": [
      "Try again! Your guess is too high. You have 3 attempts left.\n"
     ]
    },
    {
     "name": "stdin",
     "output_type": "stream",
     "text": [
      "\n",
      "Guess the secret number (between 1 and 50): 25\n"
     ]
    },
    {
     "name": "stdout",
     "output_type": "stream",
     "text": [
      "Try again! Your guess is too low. You have 2 attempts left.\n"
     ]
    },
    {
     "name": "stdin",
     "output_type": "stream",
     "text": [
      "\n",
      "Guess the secret number (between 1 and 50): xyz\n"
     ]
    },
    {
     "name": "stdout",
     "output_type": "stream",
     "text": [
      "Invalid input! Please enter a valid number\n"
     ]
    },
    {
     "name": "stdin",
     "output_type": "stream",
     "text": [
      "\n",
      "Guess the secret number (between 1 and 50): 26\n"
     ]
    },
    {
     "name": "stdout",
     "output_type": "stream",
     "text": [
      "Try again! Your guess is too low. You have 1 attempts left.\n"
     ]
    },
    {
     "name": "stdin",
     "output_type": "stream",
     "text": [
      "\n",
      "Guess the secret number (between 1 and 50): 28\n"
     ]
    },
    {
     "name": "stdout",
     "output_type": "stream",
     "text": [
      "Try again! Your guess is too high. You have 0 attempts left.\n",
      "\n",
      "Game Over! The secret number was 27. Better luck next time!\n"
     ]
    }
   ],
   "source": [
    "### import randint() function from 'random' module\n",
    "from random import randint\n",
    "\n",
    "# Generate a random number between 1 and 50 \n",
    "secret_number = randint(1, 50)\n",
    "\n",
    "print(\"--- Welcome to the Guessing Game! ---\")\n",
    "\n",
    "# Initiate a counter to keep track of user's attempts\n",
    "attempts_left = 5\n",
    "\n",
    "# Iterate to ask the user to guess the number until there are remaining attempts\n",
    "while(attempts_left > 0):\n",
    "    try:\n",
    "        # Get input from the user\n",
    "        guess = int(input(\"\\nGuess the secret number (between 1 and 50):\"))\n",
    "    except:\n",
    "        # Handle exception if user enters a non-numeric input \n",
    "        print(\"Invalid input! Please enter a valid number\")\n",
    "        continue # Allow the user to try again without reducing the remaining attempts\n",
    "\n",
    "    # Decrease the remaining attempts by one \n",
    "    attempts_left -= 1\n",
    "\n",
    "    # If the user guesses the correct number, congratulate him\n",
    "    if(guess == secret_number):\n",
    "        print(f\"Congratulations! You guessed the secret_number {secret_number} correctly!\")\n",
    "        break    \n",
    "    elif(guess > secret_number): # Prompt the user to try again if his guess is greater than the number\n",
    "        print(f\"Try again! Your guess is too high. You have {attempts_left} attempts left.\")\n",
    "    elif(guess < secret_number): # Prompt the user to try again if his guess is smaller than the number\n",
    "        print(f\"Try again! Your guess is too low. You have {attempts_left} attempts left.\")\n",
    "\n",
    "    # If there are no remaining attempts, tell the user that the game is over\n",
    "    if(attempts_left == 0):\n",
    "        print(f\"\\nGame Over! The secret number was {secret_number}. Better luck next time!\")"
   ]
  },
  {
   "cell_type": "markdown",
   "id": "49280cbf-cbf0-4f28-84cf-91f3986d656f",
   "metadata": {},
   "source": [
    "# Task 2"
   ]
  },
  {
   "cell_type": "code",
   "execution_count": 18,
   "id": "c0a7d67a-e1cb-40e8-86d0-f32a72744ddf",
   "metadata": {},
   "outputs": [
    {
     "data": {
      "text/plain": [
       "10"
      ]
     },
     "execution_count": 18,
     "metadata": {},
     "output_type": "execute_result"
    }
   ],
   "source": [
    "# a\n",
    "\n",
    "# This function returns the number of vowels in a string\n",
    "def num_vowels(str):\n",
    "    vowel_count = 0 # initialize the vowel count to zero\n",
    "    # Iterate over each letter in the string\n",
    "    for s in str:\n",
    "        if s in ('a', 'e', 'i', 'o', 'u'): # Check if the letter is a vowel\n",
    "            vowel_count += 1 # increment the vowel count\n",
    "\n",
    "    return vowel_count\n",
    "\n",
    "my_str = \"Learning Python is fun and engaging.\"\n",
    "num_vowels(my_str)"
   ]
  },
  {
   "cell_type": "code",
   "execution_count": 8,
   "id": "b1b468fb-db1d-4b00-8cb7-32cb1e01c3b4",
   "metadata": {},
   "outputs": [
    {
     "name": "stdout",
     "output_type": "stream",
     "text": [
      "2.5 hours = 150.0 minutes\n"
     ]
    }
   ],
   "source": [
    "# b\n",
    "\n",
    "# This function converts hours into minutes\n",
    "def hours_to_min(hours):\n",
    "    return hours*60 # 1 hour = 60 minutes\n",
    "\n",
    "minutes = hours_to_min(2.5)\n",
    "print(\"2.5 hours =\", minutes, \"minutes\")"
   ]
  },
  {
   "cell_type": "code",
   "execution_count": 13,
   "id": "cf48ebb5-43cc-40d5-9721-67c9c33aabd2",
   "metadata": {},
   "outputs": [
    {
     "name": "stdout",
     "output_type": "stream",
     "text": [
      "1 * 8 = 8\n",
      "2 * 8 = 16\n",
      "3 * 8 = 24\n",
      "4 * 8 = 32\n",
      "5 * 8 = 40\n",
      "6 * 8 = 48\n",
      "7 * 8 = 56\n",
      "8 * 8 = 64\n",
      "9 * 8 = 72\n",
      "10 * 8 = 80\n",
      "11 * 8 = 88\n",
      "12 * 8 = 96\n"
     ]
    }
   ],
   "source": [
    "# c\n",
    "\n",
    "# This function prints out the table of a number upto 12 times\n",
    "def print_table(number):\n",
    "    # Iterate through a for from 1 to 12\n",
    "    for i in range(1, 13):\n",
    "        print(i, \"*\", number, \"=\", i*number) # Multiply i with number at each iteration and display the result\n",
    "\n",
    "print_table(8)"
   ]
  },
  {
   "cell_type": "code",
   "execution_count": 17,
   "id": "0e3e0939-8e21-42b6-bdbc-b940538b6190",
   "metadata": {},
   "outputs": [
    {
     "name": "stdout",
     "output_type": "stream",
     "text": [
      "Eligibility for age=30 and GPA=3.2: True\n",
      "Eligibility for age=16 and GPA=3.8: False\n",
      "\n",
      "Eligibility for age=40 and GPA=2.9: False\n",
      "Eligibility for age=20 and GPA=4.0: True\n"
     ]
    }
   ],
   "source": [
    "# d\n",
    "\n",
    "# This function checks the eligibility of a student for admission into a university\n",
    "def eligibility(age, GPA):\n",
    "    if(age >= 18 and GPA >= 3.0):\n",
    "        return True\n",
    "    else:\n",
    "        return False\n",
    "\n",
    "# Test the function\n",
    "# -----------------------\n",
    "# Check without keywords\n",
    "print(\"Eligibility for age=30 and GPA=3.2:\", eligibility(30, 3.2))\n",
    "print(\"Eligibility for age=16 and GPA=3.8:\", eligibility(16, 3.8))\n",
    "print(\"\")\n",
    "# Check with keywords\n",
    "print(\"Eligibility for age=40 and GPA=2.9:\", eligibility(GPA=2.9, age=40))\n",
    "print(\"Eligibility for age=20 and GPA=4.0:\", eligibility(GPA=4.0, age=20))"
   ]
  }
 ],
 "metadata": {
  "kernelspec": {
   "display_name": "Python 3 (ipykernel)",
   "language": "python",
   "name": "python3"
  },
  "language_info": {
   "codemirror_mode": {
    "name": "ipython",
    "version": 3
   },
   "file_extension": ".py",
   "mimetype": "text/x-python",
   "name": "python",
   "nbconvert_exporter": "python",
   "pygments_lexer": "ipython3",
   "version": "3.10.9"
  }
 },
 "nbformat": 4,
 "nbformat_minor": 5
}
